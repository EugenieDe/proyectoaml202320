{
 "cells": [
  {
   "cell_type": "code",
   "execution_count": 33,
   "metadata": {},
   "outputs": [],
   "source": [
    "import json"
   ]
  },
  {
   "cell_type": "code",
   "execution_count": 34,
   "metadata": {},
   "outputs": [],
   "source": [
    "#endo_train_json_path = \"/home/eugenie/These/data/endovis2018/train/RobotSeg2018_inst_class_train.json\" \n",
    "#endo_val_json_path = \"/home/eugenie/These/data/endovis2018/val/RobotSeg2018_inst_class_val.json\"\n",
    "\n",
    "endo_train_json_path = \"/home/eugenie/EndoVis/data/endovis2018/RobotSeg2018_inst_class_train.json\" \n",
    "endo_val_json_path = \"/home/eugenie/EndoVis/data/endovis2018/RobotSeg2018_inst_class_val.json\"\n",
    "\n",
    "endo_splits_1_4_labeled_path = \"/home/eugenie/EndoVis/proyectoaml202320/unimatch/splits/endovis2018/sorted/1_4/labeled.txt\"\n",
    "endo_splits_1_4_unlabeled_path = \"/home/eugenie/EndoVis/proyectoaml202320/unimatch/splits/endovis2018/sorted/1_4/unlabeled.txt\""
   ]
  },
  {
   "cell_type": "code",
   "execution_count": 35,
   "metadata": {},
   "outputs": [],
   "source": [
    "endo_train = json.load(open(endo_train_json_path))\n",
    "\n",
    "with open(endo_splits_1_4_labeled_path, 'r') as f:\n",
    "    id_labeled = f.read().splitlines()\n",
    "with open(endo_splits_1_4_unlabeled_path, 'r') as f:\n",
    "    id_unlabeled = f.read().splitlines()"
   ]
  },
  {
   "cell_type": "code",
   "execution_count": 36,
   "metadata": {},
   "outputs": [],
   "source": [
    "list_name_im_labeled = []\n",
    "list_name_im_unlabeled = []\n",
    "\n",
    "for i in range(0, len(id_labeled)):\n",
    "    im_name = id_labeled[i].split(\"/\")[-1]\n",
    "    list_name_im_labeled.append(im_name)\n",
    "\n",
    "for i in range(0, len(id_unlabeled)):\n",
    "    im_name = id_unlabeled[i].split(\"/\")[-1]\n",
    "    list_name_im_unlabeled.append(im_name)"
   ]
  },
  {
   "cell_type": "code",
   "execution_count": 37,
   "metadata": {},
   "outputs": [],
   "source": [
    "dict_endo_train_1_4_labeled = {}\n",
    "dict_endo_train_1_4_labeled['info'] = endo_train['info']\n",
    "dict_endo_train_1_4_labeled['licenses'] = endo_train['licenses']\n",
    "dict_endo_train_1_4_labeled['categories'] = endo_train['categories']\n",
    "dict_endo_train_1_4_labeled['images'] = []\n",
    "dict_endo_train_1_4_labeled['annotations'] = []\n",
    "\n",
    "dict_endo_train_1_4_unlabeled = {}\n",
    "dict_endo_train_1_4_unlabeled['info'] = endo_train['info']\n",
    "dict_endo_train_1_4_unlabeled['licenses'] = endo_train['licenses']\n",
    "dict_endo_train_1_4_unlabeled['categories'] = endo_train['categories']\n",
    "dict_endo_train_1_4_unlabeled['images'] = []\n",
    "dict_endo_train_1_4_unlabeled['annotations'] = []"
   ]
  },
  {
   "cell_type": "markdown",
   "metadata": {},
   "source": [
    "Remplir images de chaque dict"
   ]
  },
  {
   "cell_type": "code",
   "execution_count": 38,
   "metadata": {},
   "outputs": [],
   "source": [
    "list_im_id_labeled=[]\n",
    "list_im_id_unlabeled=[]\n",
    "j=0\n",
    "k=0\n",
    "for i in range(0, len(endo_train['images'])):\n",
    "    im_name = endo_train['images'][i]['file_name']\n",
    "    if im_name in list_name_im_labeled:\n",
    "        dict_to_append = endo_train['images'][i]\n",
    "        dict_to_append['new_id'] = j\n",
    "        dict_endo_train_1_4_labeled['images'].append(dict_to_append)\n",
    "        list_im_id_labeled.append(endo_train['images'][i]['id'])\n",
    "        j+=1\n",
    "    else:\n",
    "        dict_to_append = endo_train['images'][i]\n",
    "        dict_to_append['new_id'] = k\n",
    "        dict_endo_train_1_4_unlabeled['images'].append(dict_to_append)\n",
    "        list_im_id_unlabeled.append(endo_train['images'][i]['id'])\n",
    "        k+=1\n"
   ]
  },
  {
   "cell_type": "code",
   "execution_count": 39,
   "metadata": {},
   "outputs": [
    {
     "data": {
      "text/plain": [
       "\"\\n    else:\\n        new_annotation = endo_train['annotations'][i]\\n        new_annotation['category_id'] = None\\n        new_annotation['area'] = None\\n        new_annotation['bbox'] = []\\n        new_annotation['segmentation'] = []\\n        dict_endo_train_1_8_unlabeled['annotations'].append(new_annotation)\\n\""
      ]
     },
     "execution_count": 39,
     "metadata": {},
     "output_type": "execute_result"
    }
   ],
   "source": [
    "k=0\n",
    "for i in range(0, len(endo_train['annotations'])):\n",
    "    im_id = endo_train['annotations'][i]['image_id']\n",
    "    if im_id in list_im_id_labeled:\n",
    "        dict_to_append = endo_train['annotations'][i]\n",
    "        dict_to_append['new_id'] = k\n",
    "        dict_endo_train_1_4_labeled['annotations'].append(dict_to_append)\n",
    "        k+=1\n",
    "\"\"\"\n",
    "    else:\n",
    "        new_annotation = endo_train['annotations'][i]\n",
    "        new_annotation['category_id'] = None\n",
    "        new_annotation['area'] = None\n",
    "        new_annotation['bbox'] = []\n",
    "        new_annotation['segmentation'] = []\n",
    "        dict_endo_train_1_8_unlabeled['annotations'].append(new_annotation)\n",
    "\"\"\""
   ]
  },
  {
   "cell_type": "code",
   "execution_count": 40,
   "metadata": {},
   "outputs": [],
   "source": [
    "with open('/home/eugenie/EndoVis/data/endovis2018/train/splits/1_4/labeled.json', 'w') as outfile:\n",
    "    json.dump(dict_endo_train_1_4_labeled, outfile)\n",
    "with open('/home/eugenie/EndoVis/data/endovis2018/train/splits/1_4/unlabeled.json', 'w') as outfile:\n",
    "    json.dump(dict_endo_train_1_4_unlabeled, outfile)"
   ]
  },
  {
   "cell_type": "code",
   "execution_count": null,
   "metadata": {},
   "outputs": [],
   "source": []
  }
 ],
 "metadata": {
  "kernelspec": {
   "display_name": "unimatch",
   "language": "python",
   "name": "python3"
  },
  "language_info": {
   "codemirror_mode": {
    "name": "ipython",
    "version": 3
   },
   "file_extension": ".py",
   "mimetype": "text/x-python",
   "name": "python",
   "nbconvert_exporter": "python",
   "pygments_lexer": "ipython3",
   "version": "3.8.18"
  }
 },
 "nbformat": 4,
 "nbformat_minor": 2
}
